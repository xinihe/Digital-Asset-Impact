{
 "cells": [
  {
   "cell_type": "code",
   "execution_count": null,
   "metadata": {},
   "outputs": [],
   "source": [
    "#pip install PyMuPDF\n",
    "#pip install jieba"
   ]
  },
  {
   "cell_type": "code",
   "execution_count": null,
   "metadata": {},
   "outputs": [],
   "source": [
    "import fitz  # PyMuPDF\n",
    "\n",
    "def extract_text_from_pdf(pdf_path):\n",
    "    text = \"\"\n",
    "    try:\n",
    "        # Open the PDF file\n",
    "        with fitz.open(pdf_path) as pdf_document:\n",
    "            # Iterate through pages\n",
    "            for page_number in range(pdf_document.page_count):\n",
    "                # Get the page\n",
    "                page = pdf_document[page_number]\n",
    "                # Extract text from the page\n",
    "                text += page.get_text()\n",
    "    except Exception as e:\n",
    "        print(f\"Error extracting text: {str(e)}\")\n",
    "\n",
    "    return text\n",
    "\n",
    "# Example usage\n",
    "pdf_path = \"20230627-000702.SZ.PDF\"\n",
    "extracted_text = extract_text_from_pdf(pdf_path)\n",
    "print(extracted_text)\n"
   ]
  },
  {
   "cell_type": "code",
   "execution_count": 11,
   "metadata": {},
   "outputs": [
    {
     "name": "stdout",
     "output_type": "stream",
     "text": [
      "Keywords: ['正虹', '2022', '公司', '000.00', '湖南', '有限公司', '其他', '年度报告', '科技', '资产', '适用', '12', '股份', '全文', '负债', '饲料', '发展', '公允', '计量', '金额']\n"
     ]
    }
   ],
   "source": [
    "import jieba.analyse\n",
    "\n",
    "def extract_keywords(text, top_k=20):\n",
    "    try:\n",
    "        # Use TF-IDF algorithm to extract keywords\n",
    "        keywords = jieba.analyse.extract_tags(text, topK=top_k)\n",
    "        return keywords\n",
    "    except Exception as e:\n",
    "        print(f\"Error extracting keywords: {str(e)}\")\n",
    "        return []\n",
    "\n",
    "# Example usage\n",
    "\n",
    "keywords = extract_keywords(extracted_text)\n",
    "print(\"Keywords:\", keywords)\n"
   ]
  }
 ],
 "metadata": {
  "kernelspec": {
   "display_name": "Python 3",
   "language": "python",
   "name": "python3"
  },
  "language_info": {
   "codemirror_mode": {
    "name": "ipython",
    "version": 3
   },
   "file_extension": ".py",
   "mimetype": "text/x-python",
   "name": "python",
   "nbconvert_exporter": "python",
   "pygments_lexer": "ipython3",
   "version": "3.9.6"
  }
 },
 "nbformat": 4,
 "nbformat_minor": 2
}
